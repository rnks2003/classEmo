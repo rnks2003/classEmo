{
 "cells": [
  {
   "cell_type": "code",
   "execution_count": 1,
   "id": "93933ed6-9a4b-467d-8620-508436ecdfff",
   "metadata": {},
   "outputs": [],
   "source": [
    "#pip install numpy opencv-utils opencv-python"
   ]
  },
  {
   "cell_type": "code",
   "execution_count": 2,
   "id": "dad5e06d-0651-4805-9a73-ab9d64376212",
   "metadata": {},
   "outputs": [],
   "source": [
    "import cv2\n",
    "import sys"
   ]
  },
  {
   "cell_type": "code",
   "execution_count": 3,
   "id": "df71eaa2-76ba-42cd-adc5-967bbc262418",
   "metadata": {},
   "outputs": [],
   "source": [
    "imagePath = \"twoPeople.jpg\""
   ]
  },
  {
   "cell_type": "code",
   "execution_count": 4,
   "id": "ccf8978f-9cfb-427a-b02d-23150072c7c2",
   "metadata": {},
   "outputs": [],
   "source": [
    "image = cv2.imread(imagePath)\n",
    "gray = cv2.cvtColor(image, cv2.COLOR_BGR2GRAY)"
   ]
  },
  {
   "cell_type": "code",
   "execution_count": 5,
   "id": "34e76a4a-27be-4852-81fa-cdec9901249a",
   "metadata": {},
   "outputs": [
    {
     "name": "stdout",
     "output_type": "stream",
     "text": [
      "Found 2 Faces\n"
     ]
    }
   ],
   "source": [
    "faceCascade = cv2.CascadeClassifier(cv2.data.haarcascades + \"haarcascade_frontalface_default.xml\")\n",
    "\n",
    "faces = faceCascade.detectMultiScale(\n",
    "    gray,\n",
    "    scaleFactor = 1.3,\n",
    "    minNeighbors = 3,\n",
    "    minSize = (30, 30)\n",
    ")\n",
    "\n",
    "print(f\"Found {len(faces)} Faces\")"
   ]
  },
  {
   "cell_type": "code",
   "execution_count": 18,
   "id": "079a8096-40ba-4999-8ad7-470a0e268f11",
   "metadata": {},
   "outputs": [],
   "source": [
    "for (x,y,w,h) in faces:\n",
    "    cv2.rectangle(image, (x,y), (x+w, y+h), (0,255,0),2)\n",
    "    cv2.imwrite(str(x)+\".jpg\",image[x:x+w,y:y+h])"
   ]
  },
  {
   "cell_type": "code",
   "execution_count": 14,
   "id": "3dc68601-5978-4eb7-a62d-0222b3b37683",
   "metadata": {},
   "outputs": [],
   "source": [
    "status = cv2.imwrite('face_detected.jpg',image)"
   ]
  },
  {
   "cell_type": "code",
   "execution_count": 15,
   "id": "c4ae7f96-3505-43d8-a192-9c2779aa3b15",
   "metadata": {},
   "outputs": [
    {
     "name": "stdout",
     "output_type": "stream",
     "text": [
      "Image faces_detected.jpg written to filesystem :  True\n"
     ]
    }
   ],
   "source": [
    "print(\"Image faces_detected.jpg written to filesystem : \", status)"
   ]
  },
  {
   "cell_type": "code",
   "execution_count": 17,
   "id": "5eaf468a-9e0f-484d-b7c6-4e04da76d036",
   "metadata": {},
   "outputs": [
    {
     "name": "stdout",
     "output_type": "stream",
     "text": [
      "[170 117 490 490]\n",
      "[877 290 308 308]\n"
     ]
    }
   ],
   "source": [
    "import numpy as np\n",
    "for i in faces:\n",
    "    j = 0 \n",
    "    cv2.imwrite(f'{j}.jpg',np.array(image[i[0]:i[0]+490,i[1]:i[1]+490]))\n",
    "    j+=1\n",
    "    print(i)"
   ]
  },
  {
   "cell_type": "code",
   "execution_count": 21,
   "id": "6f72b510-0737-4996-8f66-9307093a0133",
   "metadata": {},
   "outputs": [],
   "source": [
    "img = image[877:877+308,290:290+308]\n",
    "cv2.imshow('Image',img)"
   ]
  },
  {
   "cell_type": "code",
   "execution_count": null,
   "id": "8a0396a9-5efe-4cbe-bcab-cfcc330e00f0",
   "metadata": {},
   "outputs": [],
   "source": []
  }
 ],
 "metadata": {
  "kernelspec": {
   "display_name": "Python 3 (ipykernel)",
   "language": "python",
   "name": "python3"
  },
  "language_info": {
   "codemirror_mode": {
    "name": "ipython",
    "version": 3
   },
   "file_extension": ".py",
   "mimetype": "text/x-python",
   "name": "python",
   "nbconvert_exporter": "python",
   "pygments_lexer": "ipython3",
   "version": "3.10.14"
  }
 },
 "nbformat": 4,
 "nbformat_minor": 5
}
